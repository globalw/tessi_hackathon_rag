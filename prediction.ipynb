{
 "cells": [
  {
   "cell_type": "code",
   "execution_count": 1,
   "metadata": {},
   "outputs": [],
   "source": [
    "import os\n",
    "from typing import List, Union, Generator, Iterator\n",
    "from pydantic import BaseModel\n",
    "from llama_index.embeddings.ollama import OllamaEmbedding\n",
    "from llama_index.llms.ollama import Ollama\n",
    "from llama_index.core import Settings, VectorStoreIndex, SimpleDirectoryReader\n",
    "import pandas as pd\n",
    "import json"
   ]
  },
  {
   "cell_type": "code",
   "execution_count": 2,
   "metadata": {},
   "outputs": [],
   "source": [
    "def display_all(df):\n",
    "    with pd.option_context(\"display.max_rows\", 1000): \n",
    "        with pd.option_context(\"display.max_columns\", 1000): \n",
    "            display(df)"
   ]
  },
  {
   "cell_type": "code",
   "execution_count": 3,
   "metadata": {},
   "outputs": [],
   "source": [
    "class RAG:\n",
    "\n",
    "    class Parameters(BaseModel):\n",
    "        LLAMAINDEX_OLLAMA_BASE_URL: str\n",
    "        LLAMAINDEX_MODEL_NAME: str\n",
    "        LLAMAINDEX_EMBEDDING_MODEL_NAME: str\n",
    "\n",
    "    def __init__(self):\n",
    "        self.documents = None\n",
    "        self.index = None\n",
    "\n",
    "        self.parameters = self.Parameters(\n",
    "            LLAMAINDEX_OLLAMA_BASE_URL=os.getenv(\"LLAMAINDEX_OLLAMA_BASE_URL\", \"http://localhost:11434\"),\n",
    "            LLAMAINDEX_MODEL_NAME=os.getenv(\"LLAMAINDEX_MODEL_NAME\", \"llama3.2:3b\"),\n",
    "            LLAMAINDEX_EMBEDDING_MODEL_NAME=os.getenv(\"LLAMAINDEX_EMBEDDING_MODEL_NAME\", \"jina/jina-embeddings-v2-base-en:latest\"),\n",
    "        )\n",
    "\n",
    "    def on_startup(self):\n",
    "        Settings.embed_model = OllamaEmbedding(\n",
    "            model_name=self.parameters.LLAMAINDEX_EMBEDDING_MODEL_NAME,\n",
    "            base_url=self.parameters.LLAMAINDEX_OLLAMA_BASE_URL,\n",
    "        )\n",
    "        Settings.llm = Ollama(\n",
    "            model=self.parameters.LLAMAINDEX_MODEL_NAME,\n",
    "            base_url=self.parameters.LLAMAINDEX_OLLAMA_BASE_URL,\n",
    "        )\n",
    "\n",
    "        self.documents = SimpleDirectoryReader(\"test/dataset\").load_data()\n",
    "        self.index = VectorStoreIndex.from_documents(self.documents)\n",
    "\n",
    "    def on_shutdown(self):\n",
    "        pass\n",
    "\n",
    "    def pipe(\n",
    "        self, user_message: str, model_id: str, messages: List[dict], body: dict, top_k: int = 5\n",
    "    ) -> Union[str, Generator, Iterator]:\n",
    "        query_engine = self.index.as_query_engine(streaming=True, top_k=top_k)\n",
    "        response = query_engine.query(user_message)\n",
    "        return response.response_gen\n",
    "\n",
    "\n",
    "def run_query_sync(query: str, top_k: int = 5) -> str:\n",
    "     rag = RAG()\n",
    "     rag.on_startup()\n",
    "     \n",
    "     user_message = query\n",
    "     model_id = \"llama3.2:3b\"\n",
    "     messages = [{\"role\": \"user\", \"content\": user_message}]\n",
    "     body = {}\n",
    "     \n",
    "     # return top_k vectors (and not the default)\n",
    "     response_gen = rag.pipe(user_message, model_id, messages, body, top_k=top_k)\n",
    "     response_text = ''.join(response_gen)\n",
    "\n",
    "     rag.on_shutdown()\n",
    "     return response_text\n",
    "\n",
    "def run_query_sync_old(query: str) -> str:\n",
    "    rag = RAG()\n",
    "    rag.on_startup()\n",
    "\n",
    "    user_message = query\n",
    "    model_id = \"llama3.2:3b\"\n",
    "    messages = [{\"role\": \"user\", \"content\": user_message}]\n",
    "    body = {}\n",
    "\n",
    "    response_gen = rag.pipe(user_message, model_id, messages, body)\n",
    "    response_text = ''.join(response_gen)\n",
    "\n",
    "    rag.on_shutdown()\n",
    "    return response_text\n",
    "\n"
   ]
  },
  {
   "cell_type": "code",
   "execution_count": 4,
   "metadata": {},
   "outputs": [],
   "source": [
    "\n",
    "def get_billable_answer(long_answer):\n",
    "    # Split the string by lines\n",
    "    lines = long_answer.split('\\n')\n",
    "    # Find the line that starts with 'answer:'\n",
    "    for line in lines:\n",
    "        if line.startswith(\"answer:\"):\n",
    "            answer = line.split(\":\")[1].strip()\n",
    "            break\n",
    "        else:\n",
    "            answer = 'N/A'\n",
    "    return answer\n"
   ]
  },
  {
   "cell_type": "code",
   "execution_count": 5,
   "metadata": {},
   "outputs": [],
   "source": [
    "\n",
    "def get_category_answer(long_answer):\n",
    "    # Split the string by lines\n",
    "    lines = long_answer.split('\\n')\n",
    "    # Find the line that starts with 'answer:'\n",
    "    for line in lines:\n",
    "        if line.startswith(\"request_category:\"):\n",
    "            answer = line.split(\":\")[1].strip()\n",
    "            break\n",
    "        else:\n",
    "            answer = 'N/A'\n",
    "    return answer"
   ]
  },
  {
   "cell_type": "code",
   "execution_count": 6,
   "metadata": {},
   "outputs": [],
   "source": [
    "import re\n",
    "\n",
    "def get_context_answer(long_answer):\n",
    "    # Use a regular expression to find everything after \"context:\"\n",
    "    match = re.search(r\"context:\\s*(.*)\", long_answer, re.DOTALL)\n",
    "    if match:\n",
    "        return match.group(1).strip()\n",
    "    else:\n",
    "        return 'N/A'"
   ]
  },
  {
   "cell_type": "code",
   "execution_count": 7,
   "metadata": {},
   "outputs": [],
   "source": [
    "# Emergency Maintenance (IMBL Scanner Breakdown - Immediate Repair Required)\n",
    "# Routine Maintenance (Scheduled Maintenance Request for IMBL Scanner)\n",
    "# Upgrades (Request for Software Upgrade on IMBL Scanner)\n",
    "# Training (Request for Additional IMBL Scanner Training)\n",
    "# Replacement Under Warranty (Request for Replacement of Defective IMBL Scanner Part)\n",
    "# Customization (Request for Customization of IMBL Scanner Settings)\n",
    "# User-Caused Damage (Repair Request for IMBL Scanner - Accidental Damage)\n",
    "# New Projects (Request for Installation and Setup of New IMBL Scanner; Request for Remote Troubleshooting - IMBL Scanner Software Issue)\n",
    "# Performance Reports (Request for Detailed Monthly Performance Report)"
   ]
  },
  {
   "cell_type": "code",
   "execution_count": 8,
   "metadata": {},
   "outputs": [
    {
     "name": "stdout",
     "output_type": "stream",
     "text": [
      "\n",
      "================================\n",
      "case_nb 0\n",
      "question: Subject: IMBL Scanner Breakdown - Immediate Repair Required Dear Support Team, We are experiencing a sudden breakdown of our IMBL Scanner, rendering it non-operational. We request immediate assistance for emergency repairs to restore functionality as soon as possible. Thank you for your prompt attention to this matter. Best regards, [Customer Name]\n",
      "\n",
      "Response:\n",
      "predicted_category: Emergency Maintenance (IMBL Scanner Breakdown - Immediate Repair Required)\n",
      "predicted_context: 19.2. Response Times\n",
      "- Emergency Maintenance: For critical issues that render the Equipment non-operational, the Service Provider shall respond within 2 hours of notification and commence repairs within 4 hours.\n",
      "predicted_billable: Billable\n",
      "expected_answer: Billable\n",
      "expected_context: Emergency maintenance is typically covered but billed separately as per response time clauses\n",
      "Prediction correct\n",
      "--------------------------------\n",
      "\n",
      "================================\n",
      "case_nb 1\n",
      "question: Subject: Scheduled Maintenance Request for IMBL Scanner Dear Support Team, As part of our ongoing maintenance schedule, we request a routine check-up of our IMBL Scanner. Please confirm the scheduled date and time for this service. Thank you. Best regards, [Customer Name]\n",
      "\n",
      "Response:\n",
      "predicted_category: Routine Maintenance\n",
      "predicted_context: 19.2. Response Times\n",
      "- Routine Maintenance Requests: For non-critical issues, the Service Provider shall respond within 24 hours and schedule service within 48 hours.\n",
      "predicted_billable: Not Billable\n",
      "expected_answer: Not Billable\n",
      "expected_context: Routine maintenance is usually included in the service agreement and not separately billed\n",
      "Prediction correct\n",
      "--------------------------------\n",
      "\n",
      "================================\n",
      "case_nb 2\n",
      "question: Subject: Request for Software Upgrade on IMBL Scanner Dear Support Team, We would like to upgrade our IMBL Scanner software to the latest version available. Kindly provide details on the upgrade process and any associated costs. Looking forward to your response. Best regards,\n",
      "\n",
      "Response:\n",
      "predicted_category: Upgrades\n",
      "predicted_context: 19.2. Response Times - Routine Maintenance Requests: For non-critical issues, the Service Provider shall respond within 24 hours and schedule service within 48 hours.\n",
      "predicted_billable: Not Billable\n",
      "expected_answer: Billable\n",
      "expected_context: Routine maintenance is usually included in the service agreement and not separately billed\n",
      "PREDICTION WRONG !!!\n",
      "--------------------------------\n",
      "\n",
      "================================\n",
      "case_nb 3\n",
      "question: Subject: Request for Additional IMBL Scanner Training Dear Support Team, We are seeking additional training sessions for our staff on the operation of the IMBL Scanner. Please let us know the availability and costs for scheduling a training session. Thank you. Best regards, [Customer Name]\n",
      "\n",
      "Response:\n",
      "predicted_category: Training\n",
      "predicted_context: 5. Client Responsibilities\n",
      "Provide the Service Provider with reasonable access to the Equipment and facilities. Ensure the Equipment is in suitable condition for maintenance.\n",
      "predicted_billable: Not Billable\n",
      "expected_answer: Billable\n",
      "expected_context: Upgrades are generally outside the regular maintenance scope and are billed as project setup or enhancement\n",
      "PREDICTION WRONG !!!\n",
      "--------------------------------\n",
      "\n",
      "================================\n",
      "case_nb 4\n",
      "question: Subject: Request for Replacement of Defective IMBL Scanner Part Dear Support Team, We have identified a defective part in our IMBL Scanner that needs replacement. The part should be covered under warranty. Kindly assist with the replacement process at the earliest. Thank you. Best regards, [Customer Name]\n",
      "\n",
      "Response:\n",
      "predicted_category: Replacement Under Warranty\n",
      "predicted_context: 19.6. Penalties\n",
      "- Service Credits: If the Service Provider fails to meet the uptime guarantee or response and repair times specified, the Client is entitled to service credits as follows:\n",
      "  - Uptime below 99% but above 95%: Credit of 5% of the monthly fee.\n",
      "  - Uptime below 95%: Credit of 10% of the monthly fee.\n",
      "  - Missed Response Time: Credit of 2% of the monthly fee per incident.\n",
      "  - Missed Repair Time: Credit of 3% of the monthly fee per incident.\n",
      "\n",
      " 19.7. Exclusions\n",
      "  - Scheduled Maintenance: Downtime during agreed-upon scheduled maintenance windows.\n",
      "  - Force Majeure Events: Downtime resulting from events beyond the Service Provider's control.\n",
      "  - Client Actions: Downtime caused by the Client's negligence or unauthorized modifications to the Equipment.\n",
      "predicted_billable: Not Billable\n",
      "expected_answer: Not Billable\n",
      "expected_context: Training services are not part of regular maintenance and typically require a separate project setup\n",
      "Prediction correct\n",
      "--------------------------------\n",
      "\n",
      "================================\n",
      "case_nb 5\n",
      "question: Subject: Request for Customization of IMBL Scanner Settings Dear Support Team, We require customization of the IMBL Scanner settings to meet new operational requirements. Could you please provide a quote for this customization service? Best regards, [Customer Name]\n",
      "\n",
      "Response:\n",
      "predicted_category: Customization\n",
      "predicted_context: 19.2. Response Times\n",
      "- Routine Maintenance Requests: For non-critical issues, the Service Provider shall respond within 24 hours and schedule service within 48 hours.\n",
      "predicted_billable: Not Billable\n",
      "expected_answer: Billable\n",
      "expected_context: Replacement under warranty is typically covered at no extra cost​\n",
      "PREDICTION WRONG !!!\n",
      "--------------------------------\n",
      "\n",
      "================================\n",
      "case_nb 6\n",
      "question: Subject: Request for Detailed Monthly Performance Report Dear Support Team, We would like to request a detailed monthly performance report for our IMBL Scanner, as per our Service Level Agreement. Please include all relevant statistics and insights. Thank you. Best regards, [Customer Name]\n",
      "\n",
      "Response:\n",
      "predicted_category: Performance Reports\n",
      "predicted_context: 19.1. Availability\n",
      "- Uptime Guarantee: The Service Provider guarantees that the Equipment will be operational and available for use at least 99% of the scheduled operating hours per month.\n",
      "- Downtime Calculation: Downtime is calculated from the time the Client notifies the Service Provider of an issue until the Equipment is restored to full operational status.\n",
      "predicted_billable: Not Billable\n",
      "expected_answer: Billable\n",
      "expected_context: Customization generally falls outside standard maintenance and incurs additional charges​\n",
      "PREDICTION WRONG !!!\n",
      "--------------------------------\n",
      "\n",
      "================================\n",
      "case_nb 7\n",
      "question: Subject: Repair Request for IMBL Scanner - Accidental Damage Dear Support Team, Unfortunately, our IMBL Scanner was accidentally dropped, resulting in damage. We need assistance with repairing the unit and would like to know the estimated costs involved. Thank you for your support. Best regards, [Customer Name]\n",
      "\n",
      "Response:\n",
      "predicted_category: User-Caused Damage\n",
      "predicted_context: Client Actions: Downtime caused by the Client's negligence or unauthorized modifications to the Equipment.\n",
      "predicted_billable: Not Billable\n",
      "expected_answer: Billable\n",
      "expected_context: If detailed reports are part of the agreed SLA, this would not be billable​\n",
      "PREDICTION WRONG !!!\n",
      "--------------------------------\n",
      "\n",
      "================================\n",
      "case_nb 8\n",
      "question: Subject: Request for Installation and Setup of New IMBL Scanner Dear Support Team, We have acquired a new IMBL Scanner and require installation and setup at our new location. Please provide details on the scheduling and costs for this service. Best regards, [Customer Name]\n",
      "\n",
      "Response:\n",
      "predicted_category: New Projects\n",
      "predicted_context: 19.2. Response Times - Emergency Maintenance: For critical issues that render the Equipment non-operational, the Service Provider shall respond within 2 hours of notification and commence repairs within 4 hours.\n",
      "\n",
      "19.3. Repair Times - Critical Repairs: Critical issues shall be resolved within 8 hours from the time of initial response.\n",
      "predicted_billable: Not Billable\n",
      "expected_answer: Billable\n",
      "expected_context: User-caused damage is typically not covered under standard maintenance and is billed separately\n",
      "PREDICTION WRONG !!!\n",
      "--------------------------------\n",
      "\n",
      "================================\n",
      "case_nb 9\n",
      "question: Subject: Request for Remote Troubleshooting - IMBL Scanner Software Issue Dear Support Team, We are encountering a minor software glitch with our IMBL Scanner. Could you please assist us with remote troubleshooting to resolve this issue? Thank you for your prompt support. Best regards, [Customer Name]\n",
      "\n",
      "Response:\n",
      "predicted_category: New Projects\n",
      "predicted_context: 19.2. Response Times\n",
      "- Emergency Maintenance: For critical issues that render the Equipment non-operational, the Service Provider shall respond within 2 hours of notification and commence repairs within 4 hours.\n",
      "- Routine Maintenance Requests: For non-critical issues, the Service Provider shall respond within 24 hours and schedule service within 48 hours.\n",
      "predicted_billable: Not Billable\n",
      "expected_answer: Not Billable\n",
      "expected_context: This would be considered a new project setup and billed as such\n",
      "Prediction correct\n",
      "--------------------------------\n"
     ]
    }
   ],
   "source": [
    "\n",
    "if __name__ == \"__main__\":\n",
    "\n",
    "    prompt_old1 = 'Classify this question if the request is under the Service Level Agreement (SLA) or not. Return both the relevant passage in the SLA and if the request is covered or not (yes / no)'\n",
    "    prompt_old = 'Classify this question if the request is under the Service Level Agreement (SLA) or not, do not use internal knowledge, only what is provided in the SLA. Return both the relevant passage in the SLA and if the request is covered or not (Billable / Not Billable)'\n",
    "    prompt1 = f\"\"\"Classify if the following request is covered under the Service Level Agreement (SLA) or not. If it is covered by the SLA then the request is Billable, else the request is Not Billable. Return your reply in the following format:\n",
    "            answer: [Billable / Not Billable]\n",
    "            context: [relevant passage from the Service Level Agreement, do not include the customer request here]\n",
    "            \"\"\"\n",
    "\n",
    "    prompt2 = f\"\"\"\n",
    "            Classify the following request among the following request categories:\n",
    "                - Emergency Maintenance (IMBL Scanner Breakdown - Immediate Repair Required)\n",
    "                - Routine Maintenance (Scheduled Maintenance Request for IMBL Scanner)\n",
    "                - Upgrades (Request for Software Upgrade on IMBL Scanner)\n",
    "                - Training (Request for Additional IMBL Scanner Training)\n",
    "                - Replacement Under Warranty (Request for Replacement of Defective IMBL Scanner Part)\n",
    "                - Customization (Request for Customization of IMBL Scanner Settings)\n",
    "                - User-Caused Damage (Repair Request for IMBL Scanner - Accidental Damage)\n",
    "                - New Projects (Request for Installation and Setup of New IMBL Scanner; Request for Remote Troubleshooting - IMBL Scanner Software Issue)\n",
    "                - Performance Reports (Request for Detailed Monthly Performance Report)\n",
    "                - Other\n",
    "\n",
    "            Then check if the following request is covered under the Service Level Agreement (SLA) or not. Return the relevant passages from the SLA under \"context\" below.\n",
    "            Then decide if the request is covered by the SLA, in that case the request is Billable, else the request is Not Billable.\n",
    "            \n",
    "            Return your reply in the following format:\n",
    "            request_category: [one of the request category above] \n",
    "            context: [relevant passage from the Service Level Agreement, do not include the customer request here]\n",
    "            answer: [Billable / Not Billable]\n",
    "            \"\"\"\n",
    "\n",
    "\n",
    "    prompt = f\"\"\"\n",
    "            Classify the following request among the following request categories:\n",
    "                - Emergency Maintenance (IMBL Scanner Breakdown - Immediate Repair Required)\n",
    "                - Routine Maintenance (Scheduled Maintenance Request for IMBL Scanner)\n",
    "                - Upgrades (Request for Software Upgrade on IMBL Scanner)\n",
    "                - Training (Request for Additional IMBL Scanner Training)\n",
    "                - Replacement Under Warranty (Request for Replacement of Defective IMBL Scanner Part)\n",
    "                - Customization (Request for Customization of IMBL Scanner Settings)\n",
    "                - User-Caused Damage (Repair Request for IMBL Scanner - Accidental Damage)\n",
    "                - New Projects (Request for Installation and Setup of New IMBL Scanner; Request for Remote Troubleshooting - IMBL Scanner Software Issue)\n",
    "                - Performance Reports (Request for Detailed Monthly Performance Report)\n",
    "                - Other\n",
    "\n",
    "            Then check if the following request is covered under the Service Level Agreement (SLA) or not. Return the relevant passages from the SLA under \"context\" below.\n",
    "            Then decide if the request is covered by the SLA, in that case the request is Billable, else the request is Not Billable.\n",
    "            \n",
    "            Return your reply in the following JSON format, nothing else, and follow strictly this format:\n",
    "            {{\n",
    "                category: [one of the request category above],\n",
    "                context: [relevant passage from the Service Level Agreement, do not include the customer request here],\n",
    "                billable: [Billable / Not Billable]\n",
    "            }}\n",
    "            \"\"\"\n",
    "    \n",
    "    df_questions = pd.read_csv('test/qa/QA_billability.csv')\n",
    "    df_questions['predicted_answer'] = None\n",
    "    df_questions['predicted_answer'] = None\n",
    "\n",
    "\n",
    "\n",
    "    for case_nb in range(0,df_questions.shape[0]):\n",
    "        question = df_questions['question'][case_nb]\n",
    "        query = prompt + question\n",
    "        response = []\n",
    "        print(\"\\n================================\")\n",
    "        print(f'case_nb', case_nb)     \n",
    "        print(f'question:', question)\n",
    "        #print(query)\n",
    "        response = run_query_sync(query, top_k=5)\n",
    "        print(\"\\nResponse:\")\n",
    "        #print(response)\n",
    "        #pred_category = get_category_answer(response)\n",
    "        pred_category = json.loads(response)[\"category\"]\n",
    "        df_questions.loc[case_nb, 'predicted_category'] = pred_category\n",
    "        print(f'predicted_category:', pred_category)\n",
    "\n",
    "        #pred_context = get_context_answer(response)\n",
    "        pred_context = json.loads(response)[\"context\"]\n",
    "        df_questions.loc[case_nb, 'predicted_context'] = pred_context\n",
    "        print(f'predicted_context:', pred_context)\n",
    "\n",
    "        #pred_billable = get_billable_answer(response)\n",
    "        pred_billable = json.loads(response)[\"billable\"]     \n",
    "        df_questions.loc[case_nb, 'predicted_answer'] = pred_billable\n",
    "        print(f'predicted_billable:', pred_billable)\n",
    "\n",
    "        print(f'expected_answer:', df_questions['expected_answer'][case_nb])\n",
    "        print(f'expected_context:', df_questions['context'][case_nb])\n",
    "\n",
    "        if pred_billable == df_questions['expected_answer'][case_nb]:\n",
    "            print('Prediction correct')\n",
    "        else:\n",
    "            print('PREDICTION WRONG !!!')\n",
    "        print(\"--------------------------------\")"
   ]
  },
  {
   "cell_type": "code",
   "execution_count": 9,
   "metadata": {},
   "outputs": [
    {
     "data": {
      "text/plain": [
       "'{\\n    \"category\": \"New Projects\",\\n    \"context\": \"19.2. Response Times\\\\n- Emergency Maintenance: For critical issues that render the Equipment non-operational, the Service Provider shall respond within 2 hours of notification and commence repairs within 4 hours.\\\\n- Routine Maintenance Requests: For non-critical issues, the Service Provider shall respond within 24 hours and schedule service within 48 hours.\",\\n    \"billable\": \"Not Billable\"\\n}'"
      ]
     },
     "execution_count": 9,
     "metadata": {},
     "output_type": "execute_result"
    }
   ],
   "source": [
    "response"
   ]
  },
  {
   "cell_type": "code",
   "execution_count": 10,
   "metadata": {},
   "outputs": [
    {
     "data": {
      "text/plain": [
       "{'category': 'New Projects',\n",
       " 'context': '19.2. Response Times\\n- Emergency Maintenance: For critical issues that render the Equipment non-operational, the Service Provider shall respond within 2 hours of notification and commence repairs within 4 hours.\\n- Routine Maintenance Requests: For non-critical issues, the Service Provider shall respond within 24 hours and schedule service within 48 hours.',\n",
       " 'billable': 'Not Billable'}"
      ]
     },
     "execution_count": 10,
     "metadata": {},
     "output_type": "execute_result"
    }
   ],
   "source": [
    "data = json.loads(response)\n",
    "data"
   ]
  },
  {
   "cell_type": "code",
   "execution_count": 11,
   "metadata": {},
   "outputs": [
    {
     "data": {
      "text/plain": [
       "'New Projects'"
      ]
     },
     "execution_count": 11,
     "metadata": {},
     "output_type": "execute_result"
    }
   ],
   "source": [
    "# Parse the JSON string\n",
    "data = json.loads(response)\n",
    "#  # Extract the request_categor\n",
    "request_category = data[\"category\"]\n",
    "request_category"
   ]
  },
  {
   "cell_type": "code",
   "execution_count": 12,
   "metadata": {},
   "outputs": [
    {
     "data": {
      "text/plain": [
       "'New Projects'"
      ]
     },
     "execution_count": 12,
     "metadata": {},
     "output_type": "execute_result"
    }
   ],
   "source": [
    "category = json.loads(response)[\"category\"]\n",
    "category"
   ]
  },
  {
   "cell_type": "code",
   "execution_count": null,
   "metadata": {},
   "outputs": [],
   "source": []
  },
  {
   "cell_type": "code",
   "execution_count": 13,
   "metadata": {},
   "outputs": [
    {
     "ename": "SyntaxError",
     "evalue": "invalid syntax (2615864601.py, line 1)",
     "output_type": "error",
     "traceback": [
      "\u001b[0;36m  Cell \u001b[0;32mIn[13], line 1\u001b[0;36m\u001b[0m\n\u001b[0;31m    response.\u001b[0m\n\u001b[0m             ^\u001b[0m\n\u001b[0;31mSyntaxError\u001b[0m\u001b[0;31m:\u001b[0m invalid syntax\n"
     ]
    }
   ],
   "source": [
    "response."
   ]
  },
  {
   "cell_type": "code",
   "execution_count": null,
   "metadata": {},
   "outputs": [],
   "source": [
    "df_questions"
   ]
  },
  {
   "cell_type": "code",
   "execution_count": null,
   "metadata": {},
   "outputs": [],
   "source": [
    "import pandas as pd\n",
    "from sklearn.metrics import confusion_matrix\n",
    "import seaborn as sns\n",
    "import matplotlib.pyplot as plt\n",
    "\n",
    "\n",
    "# Create confusion matrix\n",
    "conf_matrix = confusion_matrix(df_questions['expected_answer'], df_questions['predicted_answer'], labels=['Billable', 'Not Billable'])\n",
    "\n",
    "# Create a DataFrame for the confusion matrix\n",
    "conf_matrix_df = pd.DataFrame(conf_matrix, index=['Billable', 'Not Billable'], columns=['Billable', 'Not Billable'])\n",
    "\n",
    "# Plot the confusion matrix\n",
    "plt.figure(figsize=(8, 6))\n",
    "sns.heatmap(conf_matrix_df, annot=True, fmt='d', cmap='Blues')\n",
    "plt.xlabel('Predicted')\n",
    "plt.ylabel('Actual')\n",
    "plt.title('Confusion Matrix')\n",
    "plt.show()\n"
   ]
  },
  {
   "cell_type": "code",
   "execution_count": null,
   "metadata": {},
   "outputs": [],
   "source": [
    "from sklearn.metrics import accuracy_score\n",
    "# Calculate accuracy\n",
    "accuracy = accuracy_score(df_questions['expected_answer'], df_questions['predicted_answer'])\n",
    "print(f\"Accuracy: {accuracy}\")"
   ]
  },
  {
   "cell_type": "code",
   "execution_count": null,
   "metadata": {},
   "outputs": [],
   "source": [
    "display_all(df_questions)"
   ]
  },
  {
   "cell_type": "code",
   "execution_count": null,
   "metadata": {},
   "outputs": [],
   "source": []
  }
 ],
 "metadata": {
  "kernelspec": {
   "display_name": "Python 3",
   "language": "python",
   "name": "python3"
  },
  "language_info": {
   "codemirror_mode": {
    "name": "ipython",
    "version": 3
   },
   "file_extension": ".py",
   "mimetype": "text/x-python",
   "name": "python",
   "nbconvert_exporter": "python",
   "pygments_lexer": "ipython3",
   "version": "3.11.10"
  }
 },
 "nbformat": 4,
 "nbformat_minor": 2
}
